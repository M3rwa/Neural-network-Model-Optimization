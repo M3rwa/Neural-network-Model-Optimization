{
 "cells": [
  {
   "cell_type": "markdown",
   "id": "f7207b3c",
   "metadata": {
    "_cell_guid": "b1076dfc-b9ad-4769-8c92-a6c4dae69d19",
    "_uuid": "8f2839f25d086af736a60e9eeb907d3b93b6e0e5",
    "execution": {
     "iopub.execute_input": "2022-11-10T12:12:10.173797Z",
     "iopub.status.busy": "2022-11-10T12:12:10.173267Z",
     "iopub.status.idle": "2022-11-10T12:12:11.122124Z",
     "shell.execute_reply": "2022-11-10T12:12:11.121238Z"
    },
    "papermill": {
     "duration": 0.962263,
     "end_time": "2022-11-10T12:12:11.124721",
     "exception": false,
     "start_time": "2022-11-10T12:12:10.162458",
     "status": "completed"
    },
    "tags": []
   },
   "source": [
    "# <center><h1><b><font color ='Maroon'>Neural Network Model Optimization</b> </font> </h1><center>"
   ]
  },
  {
   "cell_type": "markdown",
   "id": "fe0baccf",
   "metadata": {},
   "source": [
    "## <b><font color ='Brown'>Import required libaries for preprocessing</b> </font> "
   ]
  },
  {
   "cell_type": "code",
   "execution_count": 55,
   "id": "d55edf64",
   "metadata": {},
   "outputs": [],
   "source": [
    "import numpy as np\n",
    "import pandas as pd\n",
    "import matplotlib.pyplot as plt\n",
    "import seaborn as sns\n",
    "import re\n",
    "from sklearn.neural_network import MLPClassifier\n",
    "from tensorflow import keras\n",
    "from tensorflow.keras.layers import Dense, Input\n",
    "from tensorflow.keras.models import Sequential\n",
    "from tensorflow.keras.utils import to_categorical\n",
    "from tensorflow.keras.optimizers import SGD \n",
    "from tensorflow.keras.callbacks import EarlyStopping "
   ]
  },
  {
   "cell_type": "markdown",
   "id": "5f6c9ef8",
   "metadata": {
    "papermill": {
     "duration": 0.007172,
     "end_time": "2022-11-10T12:12:11.139792",
     "exception": false,
     "start_time": "2022-11-10T12:12:11.132620",
     "status": "completed"
    },
    "tags": []
   },
   "source": [
    "## <b><font color ='Brown'>Loading the data</b> </font> "
   ]
  },
  {
   "cell_type": "code",
   "execution_count": 24,
   "id": "60aa9864",
   "metadata": {
    "execution": {
     "iopub.execute_input": "2022-11-10T12:12:11.157008Z",
     "iopub.status.busy": "2022-11-10T12:12:11.155935Z",
     "iopub.status.idle": "2022-11-10T12:12:11.183823Z",
     "shell.execute_reply": "2022-11-10T12:12:11.182878Z"
    },
    "papermill": {
     "duration": 0.039179,
     "end_time": "2022-11-10T12:12:11.186426",
     "exception": false,
     "start_time": "2022-11-10T12:12:11.147247",
     "status": "completed"
    },
    "tags": []
   },
   "outputs": [],
   "source": [
    "df_train = pd.read_csv('train _NN_Optimization.csv')\n",
    "df_test = pd.read_csv('test_NN_Optimization.csv')\n",
    "df_sub=pd.read_csv(\"gender_submission_NN_Optimization.csv\")"
   ]
  },
  {
   "cell_type": "markdown",
   "id": "a347bf0d",
   "metadata": {
    "papermill": {
     "duration": 0.007161,
     "end_time": "2022-11-10T12:12:11.201272",
     "exception": false,
     "start_time": "2022-11-10T12:12:11.194111",
     "status": "completed"
    },
    "tags": []
   },
   "source": [
    "## <b><font color ='Brown'>Data exploration</b> </font> "
   ]
  },
  {
   "cell_type": "code",
   "execution_count": 25,
   "id": "229c615d",
   "metadata": {
    "execution": {
     "iopub.execute_input": "2022-11-10T12:12:11.219031Z",
     "iopub.status.busy": "2022-11-10T12:12:11.218216Z",
     "iopub.status.idle": "2022-11-10T12:12:11.241476Z",
     "shell.execute_reply": "2022-11-10T12:12:11.240218Z"
    },
    "papermill": {
     "duration": 0.034724,
     "end_time": "2022-11-10T12:12:11.243769",
     "exception": false,
     "start_time": "2022-11-10T12:12:11.209045",
     "status": "completed"
    },
    "tags": []
   },
   "outputs": [
    {
     "data": {
      "text/html": [
       "<div>\n",
       "<style scoped>\n",
       "    .dataframe tbody tr th:only-of-type {\n",
       "        vertical-align: middle;\n",
       "    }\n",
       "\n",
       "    .dataframe tbody tr th {\n",
       "        vertical-align: top;\n",
       "    }\n",
       "\n",
       "    .dataframe thead th {\n",
       "        text-align: right;\n",
       "    }\n",
       "</style>\n",
       "<table border=\"1\" class=\"dataframe\">\n",
       "  <thead>\n",
       "    <tr style=\"text-align: right;\">\n",
       "      <th></th>\n",
       "      <th>PassengerId</th>\n",
       "      <th>Survived</th>\n",
       "      <th>Pclass</th>\n",
       "      <th>Name</th>\n",
       "      <th>Sex</th>\n",
       "      <th>Age</th>\n",
       "      <th>SibSp</th>\n",
       "      <th>Parch</th>\n",
       "      <th>Ticket</th>\n",
       "      <th>Fare</th>\n",
       "      <th>Cabin</th>\n",
       "      <th>Embarked</th>\n",
       "    </tr>\n",
       "  </thead>\n",
       "  <tbody>\n",
       "    <tr>\n",
       "      <th>0</th>\n",
       "      <td>1</td>\n",
       "      <td>0</td>\n",
       "      <td>3</td>\n",
       "      <td>Braund, Mr. Owen Harris</td>\n",
       "      <td>male</td>\n",
       "      <td>22.0</td>\n",
       "      <td>1</td>\n",
       "      <td>0</td>\n",
       "      <td>A/5 21171</td>\n",
       "      <td>7.2500</td>\n",
       "      <td>NaN</td>\n",
       "      <td>S</td>\n",
       "    </tr>\n",
       "    <tr>\n",
       "      <th>1</th>\n",
       "      <td>2</td>\n",
       "      <td>1</td>\n",
       "      <td>1</td>\n",
       "      <td>Cumings, Mrs. John Bradley (Florence Briggs Th...</td>\n",
       "      <td>female</td>\n",
       "      <td>38.0</td>\n",
       "      <td>1</td>\n",
       "      <td>0</td>\n",
       "      <td>PC 17599</td>\n",
       "      <td>71.2833</td>\n",
       "      <td>C85</td>\n",
       "      <td>C</td>\n",
       "    </tr>\n",
       "    <tr>\n",
       "      <th>2</th>\n",
       "      <td>3</td>\n",
       "      <td>1</td>\n",
       "      <td>3</td>\n",
       "      <td>Heikkinen, Miss. Laina</td>\n",
       "      <td>female</td>\n",
       "      <td>26.0</td>\n",
       "      <td>0</td>\n",
       "      <td>0</td>\n",
       "      <td>STON/O2. 3101282</td>\n",
       "      <td>7.9250</td>\n",
       "      <td>NaN</td>\n",
       "      <td>S</td>\n",
       "    </tr>\n",
       "    <tr>\n",
       "      <th>3</th>\n",
       "      <td>4</td>\n",
       "      <td>1</td>\n",
       "      <td>1</td>\n",
       "      <td>Futrelle, Mrs. Jacques Heath (Lily May Peel)</td>\n",
       "      <td>female</td>\n",
       "      <td>35.0</td>\n",
       "      <td>1</td>\n",
       "      <td>0</td>\n",
       "      <td>113803</td>\n",
       "      <td>53.1000</td>\n",
       "      <td>C123</td>\n",
       "      <td>S</td>\n",
       "    </tr>\n",
       "    <tr>\n",
       "      <th>4</th>\n",
       "      <td>5</td>\n",
       "      <td>0</td>\n",
       "      <td>3</td>\n",
       "      <td>Allen, Mr. William Henry</td>\n",
       "      <td>male</td>\n",
       "      <td>35.0</td>\n",
       "      <td>0</td>\n",
       "      <td>0</td>\n",
       "      <td>373450</td>\n",
       "      <td>8.0500</td>\n",
       "      <td>NaN</td>\n",
       "      <td>S</td>\n",
       "    </tr>\n",
       "  </tbody>\n",
       "</table>\n",
       "</div>"
      ],
      "text/plain": [
       "   PassengerId  Survived  Pclass  \\\n",
       "0            1         0       3   \n",
       "1            2         1       1   \n",
       "2            3         1       3   \n",
       "3            4         1       1   \n",
       "4            5         0       3   \n",
       "\n",
       "                                                Name     Sex   Age  SibSp  \\\n",
       "0                            Braund, Mr. Owen Harris    male  22.0      1   \n",
       "1  Cumings, Mrs. John Bradley (Florence Briggs Th...  female  38.0      1   \n",
       "2                             Heikkinen, Miss. Laina  female  26.0      0   \n",
       "3       Futrelle, Mrs. Jacques Heath (Lily May Peel)  female  35.0      1   \n",
       "4                           Allen, Mr. William Henry    male  35.0      0   \n",
       "\n",
       "   Parch            Ticket     Fare Cabin Embarked  \n",
       "0      0         A/5 21171   7.2500   NaN        S  \n",
       "1      0          PC 17599  71.2833   C85        C  \n",
       "2      0  STON/O2. 3101282   7.9250   NaN        S  \n",
       "3      0            113803  53.1000  C123        S  \n",
       "4      0            373450   8.0500   NaN        S  "
      ]
     },
     "execution_count": 25,
     "metadata": {},
     "output_type": "execute_result"
    }
   ],
   "source": [
    "df_train.head()"
   ]
  },
  {
   "cell_type": "code",
   "execution_count": 26,
   "id": "5657d75c",
   "metadata": {
    "execution": {
     "iopub.execute_input": "2022-11-10T12:12:11.262512Z",
     "iopub.status.busy": "2022-11-10T12:12:11.262100Z",
     "iopub.status.idle": "2022-11-10T12:12:11.286065Z",
     "shell.execute_reply": "2022-11-10T12:12:11.284850Z"
    },
    "papermill": {
     "duration": 0.035262,
     "end_time": "2022-11-10T12:12:11.288380",
     "exception": false,
     "start_time": "2022-11-10T12:12:11.253118",
     "status": "completed"
    },
    "tags": []
   },
   "outputs": [
    {
     "name": "stdout",
     "output_type": "stream",
     "text": [
      "<class 'pandas.core.frame.DataFrame'>\n",
      "\n",
      "RangeIndex: 891 entries, 0 to 890\n",
      "\n",
      "Data columns (total 12 columns):\n",
      "\n",
      " #   Column       Non-Null Count  Dtype  \n",
      "\n",
      "---  ------       --------------  -----  \n",
      "\n",
      " 0   PassengerId  891 non-null    int64  \n",
      "\n",
      " 1   Survived     891 non-null    int64  \n",
      "\n",
      " 2   Pclass       891 non-null    int64  \n",
      "\n",
      " 3   Name         891 non-null    object \n",
      "\n",
      " 4   Sex          891 non-null    object \n",
      "\n",
      " 5   Age          714 non-null    float64\n",
      "\n",
      " 6   SibSp        891 non-null    int64  \n",
      "\n",
      " 7   Parch        891 non-null    int64  \n",
      "\n",
      " 8   Ticket       891 non-null    object \n",
      "\n",
      " 9   Fare         891 non-null    float64\n",
      "\n",
      " 10  Cabin        204 non-null    object \n",
      "\n",
      " 11  Embarked     889 non-null    object \n",
      "\n",
      "dtypes: float64(2), int64(5), object(5)\n",
      "\n",
      "memory usage: 83.7+ KB\n"
     ]
    }
   ],
   "source": [
    "df_train.info()"
   ]
  },
  {
   "cell_type": "markdown",
   "id": "163b0884",
   "metadata": {
    "papermill": {
     "duration": 0.007614,
     "end_time": "2022-11-10T12:12:11.304062",
     "exception": false,
     "start_time": "2022-11-10T12:12:11.296448",
     "status": "completed"
    },
    "tags": []
   },
   "source": [
    "## <b><font color ='Brown'>Correlation Map</b> </font> "
   ]
  },
  {
   "cell_type": "code",
   "execution_count": 27,
   "id": "38da59c3",
   "metadata": {
    "execution": {
     "iopub.execute_input": "2022-11-10T12:12:11.322376Z",
     "iopub.status.busy": "2022-11-10T12:12:11.321902Z",
     "iopub.status.idle": "2022-11-10T12:12:11.945940Z",
     "shell.execute_reply": "2022-11-10T12:12:11.944811Z"
    },
    "papermill": {
     "duration": 0.636321,
     "end_time": "2022-11-10T12:12:11.948309",
     "exception": false,
     "start_time": "2022-11-10T12:12:11.311988",
     "status": "completed"
    },
    "tags": []
   },
   "outputs": [
    {
     "data": {
      "text/plain": [
       "<AxesSubplot:>"
      ]
     },
     "execution_count": 27,
     "metadata": {},
     "output_type": "execute_result"
    },
    {
     "data": {
      "image/png": "[encoded data removed]",
      "text/plain": [
       "<Figure size 800x500 with 2 Axes>"
      ]
     },
     "metadata": {},
     "output_type": "display_data"
    }
   ],
   "source": [
    "sns.set(rc={'figure.figsize':(8,5)})\n",
    "sns.heatmap(df_train.corr(), annot=True, fmt='.1f', vmin=-1, vmax=1, cmap='plasma')"
   ]
  },
  {
   "cell_type": "markdown",
   "id": "3ec7cc0a",
   "metadata": {
    "papermill": {
     "duration": 0.00844,
     "end_time": "2022-11-10T12:12:11.965467",
     "exception": false,
     "start_time": "2022-11-10T12:12:11.957027",
     "status": "completed"
    },
    "tags": []
   },
   "source": [
    "## <b><font color ='Brown'>Converting Data</b> </font> "
   ]
  },
  {
   "cell_type": "code",
   "execution_count": 28,
   "id": "3200cab9",
   "metadata": {
    "execution": {
     "iopub.execute_input": "2022-11-10T12:12:11.985054Z",
     "iopub.status.busy": "2022-11-10T12:12:11.984664Z",
     "iopub.status.idle": "2022-11-10T12:12:11.991531Z",
     "shell.execute_reply": "2022-11-10T12:12:11.990569Z"
    },
    "papermill": {
     "duration": 0.019385,
     "end_time": "2022-11-10T12:12:11.993804",
     "exception": false,
     "start_time": "2022-11-10T12:12:11.974419",
     "status": "completed"
    },
    "tags": []
   },
   "outputs": [
    {
     "data": {
      "text/plain": [
       "array(['male', 'female'], dtype=object)"
      ]
     },
     "execution_count": 28,
     "metadata": {},
     "output_type": "execute_result"
    }
   ],
   "source": [
    "df_train.Sex.unique()"
   ]
  },
  {
   "cell_type": "code",
   "execution_count": 29,
   "id": "6d5e771c",
   "metadata": {
    "execution": {
     "iopub.execute_input": "2022-11-10T12:12:12.013279Z",
     "iopub.status.busy": "2022-11-10T12:12:12.012925Z",
     "iopub.status.idle": "2022-11-10T12:12:12.023565Z",
     "shell.execute_reply": "2022-11-10T12:12:12.022497Z"
    },
    "papermill": {
     "duration": 0.023085,
     "end_time": "2022-11-10T12:12:12.025906",
     "exception": false,
     "start_time": "2022-11-10T12:12:12.002821",
     "status": "completed"
    },
    "tags": []
   },
   "outputs": [
    {
     "data": {
      "text/plain": [
       "0      1\n",
       "1      0\n",
       "2      0\n",
       "3      0\n",
       "4      1\n",
       "      ..\n",
       "886    1\n",
       "887    0\n",
       "888    0\n",
       "889    1\n",
       "890    1\n",
       "Name: Sex, Length: 891, dtype: int32"
      ]
     },
     "execution_count": 29,
     "metadata": {},
     "output_type": "execute_result"
    }
   ],
   "source": [
    "df_train['Sex'] = df_train['Sex'].map({'female': 0, 'male': 1})\n",
    "df_train['Sex'].astype(int)"
   ]
  },
  {
   "cell_type": "code",
   "execution_count": 30,
   "id": "cf10f76e",
   "metadata": {
    "execution": {
     "iopub.execute_input": "2022-11-10T12:12:12.046197Z",
     "iopub.status.busy": "2022-11-10T12:12:12.045826Z",
     "iopub.status.idle": "2022-11-10T12:12:12.052661Z",
     "shell.execute_reply": "2022-11-10T12:12:12.051612Z"
    },
    "papermill": {
     "duration": 0.020089,
     "end_time": "2022-11-10T12:12:12.055014",
     "exception": false,
     "start_time": "2022-11-10T12:12:12.034925",
     "status": "completed"
    },
    "tags": []
   },
   "outputs": [
    {
     "data": {
      "text/plain": [
       "array(['S', 'C', 'Q', nan], dtype=object)"
      ]
     },
     "execution_count": 30,
     "metadata": {},
     "output_type": "execute_result"
    }
   ],
   "source": [
    "df_train.Embarked.unique()"
   ]
  },
  {
   "cell_type": "code",
   "execution_count": 33,
   "id": "9b563c4c",
   "metadata": {
    "execution": {
     "iopub.execute_input": "2022-11-10T12:12:12.075613Z",
     "iopub.status.busy": "2022-11-10T12:12:12.075206Z",
     "iopub.status.idle": "2022-11-10T12:12:12.081631Z",
     "shell.execute_reply": "2022-11-10T12:12:12.080583Z"
    },
    "papermill": {
     "duration": 0.019032,
     "end_time": "2022-11-10T12:12:12.083685",
     "exception": false,
     "start_time": "2022-11-10T12:12:12.064653",
     "status": "completed"
    },
    "tags": []
   },
   "outputs": [],
   "source": [
    "df_train['Embarked'] = df_train.Embarked.map({'S':0,'C':1,'Q':2})"
   ]
  },
  {
   "cell_type": "code",
   "execution_count": 34,
   "id": "b3edc99b",
   "metadata": {
    "execution": {
     "iopub.execute_input": "2022-11-10T12:12:12.104155Z",
     "iopub.status.busy": "2022-11-10T12:12:12.103458Z",
     "iopub.status.idle": "2022-11-10T12:12:12.114884Z",
     "shell.execute_reply": "2022-11-10T12:12:12.113811Z"
    },
    "papermill": {
     "duration": 0.024221,
     "end_time": "2022-11-10T12:12:12.117071",
     "exception": false,
     "start_time": "2022-11-10T12:12:12.092850",
     "status": "completed"
    },
    "tags": []
   },
   "outputs": [
    {
     "data": {
      "text/plain": [
       "count    889.000000\n",
       "mean       0.362205\n",
       "std        0.636157\n",
       "min        0.000000\n",
       "25%        0.000000\n",
       "50%        0.000000\n",
       "75%        1.000000\n",
       "max        2.000000\n",
       "Name: Embarked, dtype: float64"
      ]
     },
     "execution_count": 34,
     "metadata": {},
     "output_type": "execute_result"
    }
   ],
   "source": [
    "df_train.Embarked.describe()"
   ]
  },
  {
   "cell_type": "code",
   "execution_count": 35,
   "id": "39d97d4a",
   "metadata": {
    "execution": {
     "iopub.execute_input": "2022-11-10T12:12:12.138288Z",
     "iopub.status.busy": "2022-11-10T12:12:12.137472Z",
     "iopub.status.idle": "2022-11-10T12:12:12.144132Z",
     "shell.execute_reply": "2022-11-10T12:12:12.142823Z"
    },
    "papermill": {
     "duration": 0.019437,
     "end_time": "2022-11-10T12:12:12.146309",
     "exception": false,
     "start_time": "2022-11-10T12:12:12.126872",
     "status": "completed"
    },
    "tags": []
   },
   "outputs": [],
   "source": [
    "df_train.Embarked.fillna(0, inplace = True)\n",
    "df_train.Age.fillna(29, inplace = True)"
   ]
  },
  {
   "cell_type": "code",
   "execution_count": 36,
   "id": "03e3b1f4",
   "metadata": {
    "execution": {
     "iopub.execute_input": "2022-11-10T12:12:12.167206Z",
     "iopub.status.busy": "2022-11-10T12:12:12.166558Z",
     "iopub.status.idle": "2022-11-10T12:12:12.205484Z",
     "shell.execute_reply": "2022-11-10T12:12:12.204212Z"
    },
    "papermill": {
     "duration": 0.052237,
     "end_time": "2022-11-10T12:12:12.207988",
     "exception": false,
     "start_time": "2022-11-10T12:12:12.155751",
     "status": "completed"
    },
    "tags": []
   },
   "outputs": [
    {
     "data": {
      "text/html": [
       "<div>\n",
       "<style scoped>\n",
       "    .dataframe tbody tr th:only-of-type {\n",
       "        vertical-align: middle;\n",
       "    }\n",
       "\n",
       "    .dataframe tbody tr th {\n",
       "        vertical-align: top;\n",
       "    }\n",
       "\n",
       "    .dataframe thead th {\n",
       "        text-align: right;\n",
       "    }\n",
       "</style>\n",
       "<table border=\"1\" class=\"dataframe\">\n",
       "  <thead>\n",
       "    <tr style=\"text-align: right;\">\n",
       "      <th></th>\n",
       "      <th>PassengerId</th>\n",
       "      <th>Survived</th>\n",
       "      <th>Pclass</th>\n",
       "      <th>Sex</th>\n",
       "      <th>Age</th>\n",
       "      <th>SibSp</th>\n",
       "      <th>Parch</th>\n",
       "      <th>Fare</th>\n",
       "      <th>Embarked</th>\n",
       "    </tr>\n",
       "  </thead>\n",
       "  <tbody>\n",
       "    <tr>\n",
       "      <th>count</th>\n",
       "      <td>891.000000</td>\n",
       "      <td>891.000000</td>\n",
       "      <td>891.000000</td>\n",
       "      <td>891.000000</td>\n",
       "      <td>891.000000</td>\n",
       "      <td>891.000000</td>\n",
       "      <td>891.000000</td>\n",
       "      <td>891.000000</td>\n",
       "      <td>891.000000</td>\n",
       "    </tr>\n",
       "    <tr>\n",
       "      <th>mean</th>\n",
       "      <td>446.000000</td>\n",
       "      <td>0.383838</td>\n",
       "      <td>2.308642</td>\n",
       "      <td>0.647587</td>\n",
       "      <td>29.560236</td>\n",
       "      <td>0.523008</td>\n",
       "      <td>0.381594</td>\n",
       "      <td>32.204208</td>\n",
       "      <td>0.361392</td>\n",
       "    </tr>\n",
       "    <tr>\n",
       "      <th>std</th>\n",
       "      <td>257.353842</td>\n",
       "      <td>0.486592</td>\n",
       "      <td>0.836071</td>\n",
       "      <td>0.477990</td>\n",
       "      <td>13.005010</td>\n",
       "      <td>1.102743</td>\n",
       "      <td>0.806057</td>\n",
       "      <td>49.693429</td>\n",
       "      <td>0.635673</td>\n",
       "    </tr>\n",
       "    <tr>\n",
       "      <th>min</th>\n",
       "      <td>1.000000</td>\n",
       "      <td>0.000000</td>\n",
       "      <td>1.000000</td>\n",
       "      <td>0.000000</td>\n",
       "      <td>0.420000</td>\n",
       "      <td>0.000000</td>\n",
       "      <td>0.000000</td>\n",
       "      <td>0.000000</td>\n",
       "      <td>0.000000</td>\n",
       "    </tr>\n",
       "    <tr>\n",
       "      <th>25%</th>\n",
       "      <td>223.500000</td>\n",
       "      <td>0.000000</td>\n",
       "      <td>2.000000</td>\n",
       "      <td>0.000000</td>\n",
       "      <td>22.000000</td>\n",
       "      <td>0.000000</td>\n",
       "      <td>0.000000</td>\n",
       "      <td>7.910400</td>\n",
       "      <td>0.000000</td>\n",
       "    </tr>\n",
       "    <tr>\n",
       "      <th>50%</th>\n",
       "      <td>446.000000</td>\n",
       "      <td>0.000000</td>\n",
       "      <td>3.000000</td>\n",
       "      <td>1.000000</td>\n",
       "      <td>29.000000</td>\n",
       "      <td>0.000000</td>\n",
       "      <td>0.000000</td>\n",
       "      <td>14.454200</td>\n",
       "      <td>0.000000</td>\n",
       "    </tr>\n",
       "    <tr>\n",
       "      <th>75%</th>\n",
       "      <td>668.500000</td>\n",
       "      <td>1.000000</td>\n",
       "      <td>3.000000</td>\n",
       "      <td>1.000000</td>\n",
       "      <td>35.000000</td>\n",
       "      <td>1.000000</td>\n",
       "      <td>0.000000</td>\n",
       "      <td>31.000000</td>\n",
       "      <td>1.000000</td>\n",
       "    </tr>\n",
       "    <tr>\n",
       "      <th>max</th>\n",
       "      <td>891.000000</td>\n",
       "      <td>1.000000</td>\n",
       "      <td>3.000000</td>\n",
       "      <td>1.000000</td>\n",
       "      <td>80.000000</td>\n",
       "      <td>8.000000</td>\n",
       "      <td>6.000000</td>\n",
       "      <td>512.329200</td>\n",
       "      <td>2.000000</td>\n",
       "    </tr>\n",
       "  </tbody>\n",
       "</table>\n",
       "</div>"
      ],
      "text/plain": [
       "       PassengerId    Survived      Pclass         Sex         Age  \\\n",
       "count   891.000000  891.000000  891.000000  891.000000  891.000000   \n",
       "mean    446.000000    0.383838    2.308642    0.647587   29.560236   \n",
       "std     257.353842    0.486592    0.836071    0.477990   13.005010   \n",
       "min       1.000000    0.000000    1.000000    0.000000    0.420000   \n",
       "25%     223.500000    0.000000    2.000000    0.000000   22.000000   \n",
       "50%     446.000000    0.000000    3.000000    1.000000   29.000000   \n",
       "75%     668.500000    1.000000    3.000000    1.000000   35.000000   \n",
       "max     891.000000    1.000000    3.000000    1.000000   80.000000   \n",
       "\n",
       "            SibSp       Parch        Fare    Embarked  \n",
       "count  891.000000  891.000000  891.000000  891.000000  \n",
       "mean     0.523008    0.381594   32.204208    0.361392  \n",
       "std      1.102743    0.806057   49.693429    0.635673  \n",
       "min      0.000000    0.000000    0.000000    0.000000  \n",
       "25%      0.000000    0.000000    7.910400    0.000000  \n",
       "50%      0.000000    0.000000   14.454200    0.000000  \n",
       "75%      1.000000    0.000000   31.000000    1.000000  \n",
       "max      8.000000    6.000000  512.329200    2.000000  "
      ]
     },
     "execution_count": 36,
     "metadata": {},
     "output_type": "execute_result"
    }
   ],
   "source": [
    "df_train.describe()"
   ]
  },
  {
   "cell_type": "code",
   "execution_count": 38,
   "id": "c27a84d0",
   "metadata": {},
   "outputs": [],
   "source": [
    "predictors = df_sub.drop(['PassengerId'], axis=1).values"
   ]
  },
  {
   "cell_type": "code",
   "execution_count": 43,
   "id": "ee8871a5",
   "metadata": {},
   "outputs": [],
   "source": [
    "# Convert the target to categorical: target\n",
    "target = to_categorical(df_sub[\"Survived\"])"
   ]
  },
  {
   "cell_type": "markdown",
   "id": "651c5ea1",
   "metadata": {
    "papermill": {
     "duration": 0.00961,
     "end_time": "2022-11-10T12:12:13.108580",
     "exception": false,
     "start_time": "2022-11-10T12:12:13.098970",
     "status": "completed"
    },
    "tags": []
   },
   "source": [
    "## <b><font color ='Brown'>Creating a Neural Network</b> </font> "
   ]
  },
  {
   "cell_type": "code",
   "execution_count": 50,
   "id": "e1ec83ff",
   "metadata": {},
   "outputs": [],
   "source": [
    "# Set up the model\n",
    "nn_model = Sequential()\n",
    "n_cols = predictors.shape[1]\n",
    "\n",
    "# Add the first layer\n",
    "nn_model.add(Dense(32, activation='relu', input_shape = (n_cols,)))\n",
    "\n",
    "# Add the output layer\n",
    "nn_model.add(Dense(2, activation='softmax'))\n",
    "\n",
    "# Compile the model\n",
    "model.compile(optimizer='sgd',loss='categorical_crossentropy',metrics=['accuracy'])"
   ]
  },
  {
   "cell_type": "code",
   "execution_count": 53,
   "id": "0858cc39",
   "metadata": {},
   "outputs": [
    {
     "name": "stdout",
     "output_type": "stream",
     "text": [
      "\n",
      "\n",
      "\n",
      "\n",
      "Testing model with learning rate: 0.000001\n",
      "\n",
      "\n",
      "\n",
      "14/14 [==============================] - 0s 1ms/step - loss: 0.7071\n",
      "\n",
      "\n",
      "\n",
      "\n",
      "\n",
      "Testing model with learning rate: 0.010000\n",
      "\n",
      "\n",
      "\n",
      "14/14 [==============================] - 0s 1ms/step - loss: 0.6883\n",
      "\n",
      "\n",
      "\n",
      "\n",
      "\n",
      "Testing model with learning rate: 1.000000\n",
      "\n",
      "\n",
      "\n",
      "14/14 [==============================] - 0s 1ms/step - loss: 0.2820\n"
     ]
    }
   ],
   "source": [
    "# Create list of learning rates: lr_to_test\n",
    "learning_rate_list = [.000001, 0.01, 1]\n",
    "\n",
    "# Loop over learning rates\n",
    "for lr in learning_rate_list:\n",
    "    print('\\n\\nTesting model with learning rate: %f\\n'%lr )\n",
    "    \n",
    "    # Build new model to test, unaffected by previous models\n",
    "    model = Sequential()\n",
    "    input_shape = (n_cols,)\n",
    "    model.add(Dense(100, activation='relu', input_shape = input_shape))\n",
    "    model.add(Dense(100, activation='relu'))\n",
    "    model.add(Dense(2, activation='softmax'))\n",
    "    \n",
    "    # Create SGD optimizer with specified learning rate: my_optimizer\n",
    "    my_optimizer = SGD(lr=lr)\n",
    "    \n",
    "    # Compile the model\n",
    "    model.compile(optimizer = my_optimizer, loss = 'categorical_crossentropy')\n",
    "    \n",
    "    # Fit the model\n",
    "    model.fit(predictors,target)"
   ]
  },
  {
   "cell_type": "code",
   "execution_count": 54,
   "id": "1c59f94e",
   "metadata": {},
   "outputs": [
    {
     "name": "stdout",
     "output_type": "stream",
     "text": [
      "10/10 [==============================] - 1s 18ms/step - loss: 0.6092 - accuracy: 0.9178 - val_loss: 0.5716 - val_accuracy: 1.0000\n"
     ]
    }
   ],
   "source": [
    "#Evaluating model accuracy on validation dataset\n",
    "# Specify the model\n",
    "model = Sequential()\n",
    "model.add(Dense(100, activation='relu', input_shape = input_shape))\n",
    "model.add(Dense(100, activation='relu'))\n",
    "model.add(Dense(2, activation='softmax'))\n",
    "\n",
    "# Compile the model\n",
    "model.compile(optimizer='adam',loss='categorical_crossentropy',metrics=['accuracy'])\n",
    "\n",
    "# Fit the model\n",
    "hist = model.fit(predictors,target,validation_split=0.3 )"
   ]
  },
  {
   "cell_type": "code",
   "execution_count": 56,
   "id": "04a1cbd6",
   "metadata": {},
   "outputs": [
    {
     "name": "stdout",
     "output_type": "stream",
     "text": [
      "Epoch 1/30\n",
      "\n",
      "10/10 [==============================] - 0s 6ms/step - loss: 0.5346 - accuracy: 1.0000 - val_loss: 0.5072 - val_accuracy: 1.0000\n",
      "\n",
      "Epoch 2/30\n",
      "\n",
      "10/10 [==============================] - 0s 4ms/step - loss: 0.4695 - accuracy: 1.0000 - val_loss: 0.4474 - val_accuracy: 1.0000\n",
      "\n",
      "Epoch 3/30\n",
      "\n",
      "10/10 [==============================] - 0s 4ms/step - loss: 0.4105 - accuracy: 1.0000 - val_loss: 0.3928 - val_accuracy: 1.0000\n",
      "\n",
      "Epoch 4/30\n",
      "\n",
      "10/10 [==============================] - 0s 4ms/step - loss: 0.3578 - accuracy: 1.0000 - val_loss: 0.3420 - val_accuracy: 1.0000\n",
      "\n",
      "Epoch 5/30\n",
      "\n",
      "10/10 [==============================] - 0s 4ms/step - loss: 0.3087 - accuracy: 1.0000 - val_loss: 0.2919 - val_accuracy: 1.0000\n",
      "\n",
      "Epoch 6/30\n",
      "\n",
      "10/10 [==============================] - 0s 3ms/step - loss: 0.2593 - accuracy: 1.0000 - val_loss: 0.2402 - val_accuracy: 1.0000\n",
      "\n",
      "Epoch 7/30\n",
      "\n",
      "10/10 [==============================] - 0s 3ms/step - loss: 0.2085 - accuracy: 1.0000 - val_loss: 0.1861 - val_accuracy: 1.0000\n",
      "\n",
      "Epoch 8/30\n",
      "\n",
      "10/10 [==============================] - 0s 4ms/step - loss: 0.1574 - accuracy: 1.0000 - val_loss: 0.1356 - val_accuracy: 1.0000\n",
      "\n",
      "Epoch 9/30\n",
      "\n",
      "10/10 [==============================] - 0s 3ms/step - loss: 0.1123 - accuracy: 1.0000 - val_loss: 0.0943 - val_accuracy: 1.0000\n",
      "\n",
      "Epoch 10/30\n",
      "\n",
      "10/10 [==============================] - 0s 4ms/step - loss: 0.0772 - accuracy: 1.0000 - val_loss: 0.0630 - val_accuracy: 1.0000\n",
      "\n",
      "Epoch 11/30\n",
      "\n",
      "10/10 [==============================] - 0s 4ms/step - loss: 0.0514 - accuracy: 1.0000 - val_loss: 0.0420 - val_accuracy: 1.0000\n",
      "\n",
      "Epoch 12/30\n",
      "\n",
      "10/10 [==============================] - 0s 3ms/step - loss: 0.0349 - accuracy: 1.0000 - val_loss: 0.0290 - val_accuracy: 1.0000\n",
      "\n",
      "Epoch 13/30\n",
      "\n",
      "10/10 [==============================] - 0s 4ms/step - loss: 0.0243 - accuracy: 1.0000 - val_loss: 0.0207 - val_accuracy: 1.0000\n",
      "\n",
      "Epoch 14/30\n",
      "\n",
      "10/10 [==============================] - 0s 4ms/step - loss: 0.0177 - accuracy: 1.0000 - val_loss: 0.0153 - val_accuracy: 1.0000\n",
      "\n",
      "Epoch 15/30\n",
      "\n",
      "10/10 [==============================] - 0s 4ms/step - loss: 0.0134 - accuracy: 1.0000 - val_loss: 0.0119 - val_accuracy: 1.0000\n",
      "\n",
      "Epoch 16/30\n",
      "\n",
      "10/10 [==============================] - 0s 4ms/step - loss: 0.0105 - accuracy: 1.0000 - val_loss: 0.0095 - val_accuracy: 1.0000\n",
      "\n",
      "Epoch 17/30\n",
      "\n",
      "10/10 [==============================] - 0s 4ms/step - loss: 0.0085 - accuracy: 1.0000 - val_loss: 0.0078 - val_accuracy: 1.0000\n",
      "\n",
      "Epoch 18/30\n",
      "\n",
      "10/10 [==============================] - 0s 4ms/step - loss: 0.0070 - accuracy: 1.0000 - val_loss: 0.0065 - val_accuracy: 1.0000\n",
      "\n",
      "Epoch 19/30\n",
      "\n",
      "10/10 [==============================] - 0s 3ms/step - loss: 0.0059 - accuracy: 1.0000 - val_loss: 0.0055 - val_accuracy: 1.0000\n",
      "\n",
      "Epoch 20/30\n",
      "\n",
      "10/10 [==============================] - 0s 4ms/step - loss: 0.0050 - accuracy: 1.0000 - val_loss: 0.0047 - val_accuracy: 1.0000\n",
      "\n",
      "Epoch 21/30\n",
      "\n",
      "10/10 [==============================] - 0s 4ms/step - loss: 0.0043 - accuracy: 1.0000 - val_loss: 0.0041 - val_accuracy: 1.0000\n",
      "\n",
      "Epoch 22/30\n",
      "\n",
      "10/10 [==============================] - 0s 4ms/step - loss: 0.0038 - accuracy: 1.0000 - val_loss: 0.0036 - val_accuracy: 1.0000\n",
      "\n",
      "Epoch 23/30\n",
      "\n",
      "10/10 [==============================] - 0s 4ms/step - loss: 0.0033 - accuracy: 1.0000 - val_loss: 0.0032 - val_accuracy: 1.0000\n",
      "\n",
      "Epoch 24/30\n",
      "\n",
      "10/10 [==============================] - 0s 3ms/step - loss: 0.0030 - accuracy: 1.0000 - val_loss: 0.0028 - val_accuracy: 1.0000\n",
      "\n",
      "Epoch 25/30\n",
      "\n",
      "10/10 [==============================] - 0s 3ms/step - loss: 0.0026 - accuracy: 1.0000 - val_loss: 0.0025 - val_accuracy: 1.0000\n",
      "\n",
      "Epoch 26/30\n",
      "\n",
      "10/10 [==============================] - 0s 3ms/step - loss: 0.0024 - accuracy: 1.0000 - val_loss: 0.0023 - val_accuracy: 1.0000\n",
      "\n",
      "Epoch 27/30\n",
      "\n",
      "10/10 [==============================] - 0s 3ms/step - loss: 0.0022 - accuracy: 1.0000 - val_loss: 0.0021 - val_accuracy: 1.0000\n",
      "\n",
      "Epoch 28/30\n",
      "\n",
      "10/10 [==============================] - 0s 4ms/step - loss: 0.0020 - accuracy: 1.0000 - val_loss: 0.0019 - val_accuracy: 1.0000\n",
      "\n",
      "Epoch 29/30\n",
      "\n",
      "10/10 [==============================] - 0s 3ms/step - loss: 0.0018 - accuracy: 1.0000 - val_loss: 0.0017 - val_accuracy: 1.0000\n",
      "\n",
      "Epoch 30/30\n",
      "\n",
      "10/10 [==============================] - 0s 4ms/step - loss: 0.0016 - accuracy: 1.0000 - val_loss: 0.0016 - val_accuracy: 1.0000\n"
     ]
    },
    {
     "data": {
      "text/plain": [
       "<keras.callbacks.History at 0x2d03f97d370>"
      ]
     },
     "execution_count": 56,
     "metadata": {},
     "output_type": "execute_result"
    }
   ],
   "source": [
    "#Early stopping: Optimizing the optimization\n",
    "# Define early_stopping_monitor\n",
    "early_stopping_monitor = EarlyStopping(patience=2)\n",
    "\n",
    "# Fit the model\n",
    "model.fit(predictors,target,epochs=30,validation_split=0.3,callbacks=[early_stopping_monitor])"
   ]
  }
 ],
 "metadata": {
  "kernelspec": {
   "display_name": "Python 3 (ipykernel)",
   "language": "python",
   "name": "python3"
  },
  "language_info": {
   "codemirror_mode": {
    "name": "ipython",
    "version": 3
   },
   "file_extension": ".py",
   "mimetype": "text/x-python",
   "name": "python",
   "nbconvert_exporter": "python",
   "pygments_lexer": "ipython3",
   "version": "3.9.13"
  },
  "papermill": {
   "default_parameters": {},
   "duration": 42.138367,
   "end_time": "2022-11-10T12:12:44.148195",
   "environment_variables": {},
   "exception": null,
   "input_path": "__notebook__.ipynb",
   "output_path": "__notebook__.ipynb",
   "parameters": {},
   "start_time": "2022-11-10T12:12:02.009828",
   "version": "2.3.4"
  }
 },
 "nbformat": 4,
 "nbformat_minor": 5
}
